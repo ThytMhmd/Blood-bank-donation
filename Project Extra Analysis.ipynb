{
 "cells": [
  {
   "cell_type": "code",
   "execution_count": 64,
   "id": "7486b3e7",
   "metadata": {},
   "outputs": [
    {
     "name": "stdout",
     "output_type": "stream",
     "text": [
      "5938.637179055696\n",
      "Time (months)    5938.637179\n",
      "dtype: float64\n"
     ]
    },
    {
     "name": "stderr",
     "output_type": "stream",
     "text": [
      "C:\\ProgramData\\Anaconda3\\lib\\site-packages\\sklearn\\base.py:493: FutureWarning: The feature names should match those that were passed during fit. Starting version 1.2, an error will be raised.\n",
      "Feature names unseen at fit time:\n",
      "- Time (months)\n",
      "Feature names seen at fit time, yet now missing:\n",
      "- Frequency (times)\n",
      "\n",
      "  warnings.warn(message, FutureWarning)\n",
      "C:\\ProgramData\\Anaconda3\\lib\\site-packages\\numpy\\core\\fromnumeric.py:3438: FutureWarning: In a future version, DataFrame.mean(axis=None) will return a scalar mean over the entire DataFrame. To retain the old behavior, use 'frame.mean(axis=0)' or just 'frame.mean()'\n",
      "  return mean(axis=axis, dtype=dtype, out=out, **kwargs)\n"
     ]
    }
   ],
   "source": [
    "import pandas as pd\n",
    "import numpy as np\n",
    "from sklearn.metrics import mean_squared_error\n",
    "from sklearn.linear_model import LinearRegression\n",
    "from sklearn.model_selection import train_test_split\n",
    "\n",
    "df = pd.read_csv(r\"C:\\Users\\tahiy\\Downloads\\transfusion.data\")\n",
    "\n",
    "#Split it so train is 500 and test is 248\n",
    "train_data, test_data = train_test_split(df,train_size=0.332)\n",
    "\n",
    "# Train the model\n",
    "X = train_data[[\"Frequency (times)\"]]\n",
    "y = train_data[[\"Time (months)\"]]\n",
    "lm = LinearRegression()\n",
    "lm.fit(X, y)\n",
    "\n",
    "# Predict on the test data\n",
    "X_test = test_data[[\"Frequency (times)\"]]\n",
    "y_test = train_data[[\"Time (months)\"]]\n",
    "y_pred = lm.predict(y)\n",
    "\n",
    "# Compute the mean-square-error\n",
    "mse = mean_squared_error(y_test, y_pred)\n",
    "print(mse)\n",
    "\n",
    "#test mse for accuracy\n",
    "mse1 = np.mean((y_test - y_pred)**2)\n",
    "print(mse1)"
   ]
  },
  {
   "cell_type": "code",
   "execution_count": 65,
   "id": "5a194aef",
   "metadata": {},
   "outputs": [
    {
     "name": "stdout",
     "output_type": "stream",
     "text": [
      "500\n",
      "248\n"
     ]
    }
   ],
   "source": [
    "print(len(x_train))\n",
    "print(len(x_test))"
   ]
  },
  {
   "cell_type": "code",
   "execution_count": 66,
   "id": "ffe5e894",
   "metadata": {},
   "outputs": [
    {
     "name": "stdout",
     "output_type": "stream",
     "text": [
      "     Recency (months)  Frequency (times)  Monetary (c.c. blood)  \\\n",
      "574                 2                  2                    500   \n",
      "384                14                  1                    250   \n",
      "683                11                  3                    750   \n",
      "33                  4                  9                   2250   \n",
      "300                14                  2                    500   \n",
      "..                ...                ...                    ...   \n",
      "137                 2                 12                   3000   \n",
      "73                  2                  2                    500   \n",
      "152                 4                 11                   2750   \n",
      "441                11                  3                    750   \n",
      "331                16                  6                   1500   \n",
      "\n",
      "     Time (months)  whether he/she donated blood in March 2007  \n",
      "574             11                                           1  \n",
      "384             14                                           0  \n",
      "683             37                                           0  \n",
      "33              26                                           1  \n",
      "300             14                                           0  \n",
      "..             ...                                         ...  \n",
      "137             98                                           0  \n",
      "73               4                                           0  \n",
      "152             78                                           0  \n",
      "441             76                                           0  \n",
      "331             35                                           0  \n",
      "\n",
      "[500 rows x 5 columns]\n"
     ]
    }
   ],
   "source": [
    "print(x_train)"
   ]
  },
  {
   "cell_type": "code",
   "execution_count": 67,
   "id": "8bf935b3",
   "metadata": {},
   "outputs": [
    {
     "name": "stdout",
     "output_type": "stream",
     "text": [
      "     Recency (months)  Frequency (times)  Monetary (c.c. blood)  \\\n",
      "282                14                  5                   1250   \n",
      "527                 2                 15                   3750   \n",
      "483                23                  1                    250   \n",
      "532                 4                  8                   2000   \n",
      "531                 2                  4                   1000   \n",
      "..                ...                ...                    ...   \n",
      "194                 2                  2                    500   \n",
      "304                14                  6                   1500   \n",
      "271                16                  7                   1750   \n",
      "648                11                  3                    750   \n",
      "263                 2                  3                    750   \n",
      "\n",
      "     Time (months)  whether he/she donated blood in March 2007  \n",
      "282             26                                           0  \n",
      "527             64                                           0  \n",
      "483             23                                           0  \n",
      "532             28                                           0  \n",
      "531             14                                           1  \n",
      "..             ...                                         ...  \n",
      "194             14                                           0  \n",
      "304             34                                           0  \n",
      "271             28                                           0  \n",
      "648             23                                           0  \n",
      "263             38                                           1  \n",
      "\n",
      "[248 rows x 5 columns]\n"
     ]
    }
   ],
   "source": [
    "print(x_test)"
   ]
  },
  {
   "cell_type": "code",
   "execution_count": null,
   "id": "7407423d",
   "metadata": {},
   "outputs": [],
   "source": []
  }
 ],
 "metadata": {
  "kernelspec": {
   "display_name": "Python 3 (ipykernel)",
   "language": "python",
   "name": "python3"
  },
  "language_info": {
   "codemirror_mode": {
    "name": "ipython",
    "version": 3
   },
   "file_extension": ".py",
   "mimetype": "text/x-python",
   "name": "python",
   "nbconvert_exporter": "python",
   "pygments_lexer": "ipython3",
   "version": "3.9.13"
  }
 },
 "nbformat": 4,
 "nbformat_minor": 5
}
